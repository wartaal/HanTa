{
 "cells": [
  {
   "cell_type": "markdown",
   "metadata": {},
   "source": [
    "# Tests for HanTa English\n",
    "\n",
    "Some simple tests to check whether everything is doing what it is suposed to do."
   ]
  },
  {
   "cell_type": "code",
   "execution_count": 31,
   "metadata": {},
   "outputs": [],
   "source": [
    "import sys\n",
    "sys.path.insert(1, '..')\n",
    "import HanoverTagger as ht #Do not import form the package but from the parent folder where the latest source file is found\n",
    "\n",
    "tagger = ht.HanoverTagger(r'../morphmodel_en.pgz')"
   ]
  },
  {
   "cell_type": "markdown",
   "metadata": {},
   "source": [
    "## A number of arbitrary examples"
   ]
  },
  {
   "cell_type": "code",
   "execution_count": 32,
   "metadata": {},
   "outputs": [
    {
     "name": "stdout",
     "output_type": "stream",
     "text": [
      "VBG\n",
      "('walk', 'VBG')\n",
      "('walk+ing', 'VBG')\n",
      "('walk', [('walk', 'VB'), ('ing', 'SUF_ING')], 'VBG')\n"
     ]
    }
   ],
   "source": [
    "print(tagger.analyze('walking',taglevel=0))\n",
    "print(tagger.analyze('walking',taglevel=1))\n",
    "print(tagger.analyze('walking',taglevel=2))\n",
    "print(tagger.analyze('walking',taglevel=3))"
   ]
  },
  {
   "cell_type": "code",
   "execution_count": 33,
   "metadata": {},
   "outputs": [
    {
     "name": "stdout",
     "output_type": "stream",
     "text": [
      "('love', [('lov', 'VB_VAR'), ('ing', 'SUF_ING')], 'VBG')\n",
      "('unexpectedly', [('un', 'PREF_NEG'), ('expect', 'VB'), ('ed', 'SUF_VB_N'), ('ly', 'SUF_RB')], 'RB')\n",
      "('develop', [('develop', 'VB'), ('ed', 'SUF_VB_N')], 'VBN')\n",
      "('honestly', [('honest', 'JJ'), ('ly', 'SUF_RB')], 'RB')\n",
      "('man', [('men', 'NN_VAR')], 'NNS')\n",
      "('woman', 'NNS')\n",
      "('actuality', [('actual', 'JJ'), ('iti', 'SUF_JJN_VAR'), ('es', 'SUF_NN_S')], 'NNS')\n",
      "('actuality', 'NNS')\n"
     ]
    }
   ],
   "source": [
    "print(tagger.analyze('loving',taglevel=3))\n",
    "print(tagger.analyze('unexpectedly',taglevel=3))\n",
    "print(tagger.analyze('developed',taglevel=3))\n",
    "print(tagger.analyze('honestly',taglevel=3))\n",
    "print(tagger.analyze('men',taglevel=3))\n",
    "print(tagger.analyze('women',taglevel=2))\n",
    "print(tagger.analyze('actualities',taglevel=3))\n",
    "print(tagger.analyze('actualities',taglevel=1))"
   ]
  },
  {
   "cell_type": "code",
   "execution_count": 34,
   "metadata": {},
   "outputs": [
    {
     "name": "stdout",
     "output_type": "stream",
     "text": [
      "[('NN', -8.903083013526377), ('VB', -9.944943475986376)]\n",
      "[('NN', -7.875083013526378), ('VB', -12.601743475986376)]\n",
      "[('VBG', -10.581802033139532), ('NN', -13.380383013526377)]\n"
     ]
    }
   ],
   "source": [
    "print(tagger.tag_word('love'))\n",
    "print(tagger.tag_word('school'))\n",
    "print(tagger.tag_word('eating'))"
   ]
  },
  {
   "cell_type": "code",
   "execution_count": 35,
   "metadata": {},
   "outputs": [
    {
     "name": "stdout",
     "output_type": "stream",
     "text": [
      "('simple', [('simpl', 'JJ_VAR'), ('est', 'SUF_JJ_T')], 'JJT')\n",
      "('simple', 'JJT')\n",
      "('reliable', [('reli', 'VB_VAR'), ('able', 'SUF_VBJJ')], 'JJ')\n",
      "('heavily', [('heavi', 'JJ_VAR'), ('ly', 'SUF_RB')], 'RB')\n",
      "('unhappy', [('unhappiest', 'JJ_VAR')], 'JJR')\n",
      "('intimidating', [('intimidating', 'NN')], 'NN')\n"
     ]
    }
   ],
   "source": [
    "print(tagger.analyze('simplest',taglevel=3))\n",
    "print(tagger.analyze('simplest',taglevel=1))\n",
    "print(tagger.analyze('reliable',taglevel=3))\n",
    "print(tagger.analyze('heavily',taglevel=3))\n",
    "print(tagger.analyze('unhappiest',taglevel=3))\n",
    "print(tagger.analyze('intimidating',taglevel=3))"
   ]
  },
  {
   "cell_type": "code",
   "execution_count": 36,
   "metadata": {},
   "outputs": [
    {
     "data": {
      "text/plain": [
       "[('NN', -29.585544593704444),\n",
       " ('JJ', -30.146018749111022),\n",
       " ('VBG', -31.07004127090513),\n",
       " ('NNS', -33.409677300707365),\n",
       " ('VB', -34.41452704525451)]"
      ]
     },
     "execution_count": 36,
     "metadata": {},
     "output_type": "execute_result"
    }
   ],
   "source": [
    "tagger.tag_word('intimidating')"
   ]
  },
  {
   "cell_type": "code",
   "execution_count": 37,
   "metadata": {},
   "outputs": [
    {
     "name": "stdout",
     "output_type": "stream",
     "text": [
      "['VBG', 'AT', 'JJ', 'NN', 'MD', 'BE', 'AT', 'JJ', 'NN', ',', 'QL', 'RB', 'BEZ', 'AT', 'JJ', 'NN', 'IN', 'NNS', 'TO', 'VB', ',', 'NNS', 'IN', 'NN', ',', 'NN', 'TO', 'VB', 'CC', 'AP', '.']\n",
      "----\n",
      "[('Tackling', 'tackl', 'VBG'), ('the', 'the', 'AT'), ('entire', 'entire', 'JJ'), ('kitchen', 'kitchen', 'NN'), ('can', 'can', 'MD'), ('be', 'be', 'BE'), ('an', 'a', 'AT'), ('intimidating', 'intimidating', 'JJ'), ('task', 'task', 'NN'), (',', ',', ','), ('so', 'so', 'QL'), ('here', 'here', 'RB'), (\"'s\", \"'s\", 'BEZ'), ('a', 'a', 'AT'), ('manageable', 'manageable', 'JJ'), ('list', 'list', 'NN'), ('of', 'of', 'IN'), ('things', 'thing', 'NNS'), ('to', 'to', 'TO'), ('clean', 'clean', 'VB'), (',', ',', ','), ('ingredients', 'ingredient', 'NNS'), ('to', 'to', 'IN'), ('check', 'check', 'NN'), (',', ',', ','), ('equipment', 'equipment', 'NN'), ('to', 'to', 'TO'), ('organize', 'organize', 'VB'), ('and', 'and', 'CC'), ('more', 'more', 'AP'), ('.', '.', '.')]\n",
      "----\n",
      "[('Tackling', 'tackl+ing', 'VBG'), ('the', 'the', 'AT'), ('entire', 'entire', 'JJ'), ('kitchen', 'kitchen', 'NN'), ('can', 'can', 'MD'), ('be', 'be', 'BE'), ('an', 'a', 'AT'), ('intimidating', 'intimidating', 'JJ'), ('task', 'task', 'NN'), (',', ',', ','), ('so', 'so', 'QL'), ('here', 'here', 'RB'), (\"'s\", \"'s\", 'BEZ'), ('a', 'a', 'AT'), ('manageable', 'manage+able', 'JJ'), ('list', 'list', 'NN'), ('of', 'of', 'IN'), ('things', 'thing+s', 'NNS'), ('to', 'to', 'TO'), ('clean', 'clean', 'VB'), (',', ',', ','), ('ingredients', 'ingredient+s', 'NNS'), ('to', 'to', 'IN'), ('check', 'check', 'NN'), (',', ',', ','), ('equipment', 'equipment', 'NN'), ('to', 'to', 'TO'), ('organize', 'organize', 'VB'), ('and', 'and', 'CC'), ('more', 'more', 'AP'), ('.', '.', '.')]\n",
      "----\n",
      "[('Tackling', 'tackl', [('tackl', 'VB'), ('ing', 'SUF_ING')], 'VBG'), ('the', 'the', [('the', 'AT')], 'AT'), ('entire', 'entire', [('entire', 'JJ')], 'JJ'), ('kitchen', 'kitchen', [('kitchen', 'NN')], 'NN'), ('can', 'can', [('can', 'MD')], 'MD'), ('be', 'be', [('be', 'BE')], 'BE'), ('an', 'a', [('an', 'AT_VAR')], 'AT'), ('intimidating', 'intimidating', [('intimidating', 'JJ')], 'JJ'), ('task', 'task', [('task', 'NN')], 'NN'), (',', ',', [(',', ',')], ','), ('so', 'so', [('so', 'QL')], 'QL'), ('here', 'here', [('here', 'RB')], 'RB'), (\"'s\", \"'s\", [(\"'s\", 'BEZ')], 'BEZ'), ('a', 'a', [('a', 'AT')], 'AT'), ('manageable', 'manageable', [('manage', 'VB'), ('able', 'SUF_VBJJ')], 'JJ'), ('list', 'list', [('list', 'NN')], 'NN'), ('of', 'of', [('of', 'IN')], 'IN'), ('things', 'thing', [('thing', 'NN'), ('s', 'SUF_NN_S')], 'NNS'), ('to', 'to', [('to', 'TO')], 'TO'), ('clean', 'clean', [('clean', 'VB')], 'VB'), (',', ',', [(',', ',')], ','), ('ingredients', 'ingredient', [('ingredient', 'NN'), ('s', 'SUF_NN_S')], 'NNS'), ('to', 'to', [('to', 'IN')], 'IN'), ('check', 'check', [('check', 'NN')], 'NN'), (',', ',', [(',', ',')], ','), ('equipment', 'equipment', [('equipment', 'NN')], 'NN'), ('to', 'to', [('to', 'TO')], 'TO'), ('organize', 'organize', [('organize', 'VB')], 'VB'), ('and', 'and', [('and', 'CC')], 'CC'), ('more', 'more', [('more', 'AP')], 'AP'), ('.', '.', [('.', '.')], '.')]\n"
     ]
    }
   ],
   "source": [
    "import nltk\n",
    "\n",
    "#sent = \"Tackling the entire kitchen can be an intimidating task, so here’s a manageable list of things to clean, ingredients to check, equipment to organize and more.\"\n",
    "sent = \"Tackling the entire kitchen can be an intimidating task, so here's a manageable list of things to clean, ingredients to check, equipment to organize and more.\"\n",
    "\n",
    "words = nltk.word_tokenize(sent)\n",
    "\n",
    "print(tagger.tag_sent(words,taglevel = 0))\n",
    "print('----')\n",
    "print(tagger.tag_sent(words,taglevel = 1))\n",
    "print('----')\n",
    "print(tagger.tag_sent(words,taglevel = 2))\n",
    "print('----')\n",
    "print(tagger.tag_sent(words,taglevel = 3))"
   ]
  },
  {
   "cell_type": "markdown",
   "metadata": {},
   "source": [
    "## Evaluate tagging and lemmatising on train data\n",
    "\n",
    "This is ofcourse not a proper evaluation as we use the training data to evaluate the program. However, if we don't get good results here, something went wrong for sure. The numbers we get here might give a kind of upperbound for what we can ecpect from a real evaluation.\n",
    "\n",
    "Evaluation of tagging and lemmatisation is not a trivial task. First, the evaluation data might have been tagged according to some othe tagging scheme. A lot of different decisions can be made about the tags and lemmata for many unclear cases. Moreover most data sets contain a large number of errors. Often these originate form the tagger/stemmer/lemmatiser that was used for the initial annotation and were overlooked in the manual correction phases.  "
   ]
  },
  {
   "cell_type": "code",
   "execution_count": 38,
   "metadata": {},
   "outputs": [],
   "source": [
    "def load(lines):\n",
    "    data = []\n",
    "    sent = []\n",
    "    lastsentnr = 1\n",
    "    for line in lines:\n",
    "        (sentnr,word,lemma,stem,tag,morphemes,stemsub) = line.split('\\t')\n",
    "        if sentnr != lastsentnr:\n",
    "            if len(sent) > 0:\n",
    "                data.append((sentnr,sent))\n",
    "            sent = []\n",
    "            lastsentnr = sentnr\n",
    "        sent.append((word,lemma,tag))\n",
    "    return data"
   ]
  },
  {
   "cell_type": "code",
   "execution_count": 23,
   "metadata": {},
   "outputs": [],
   "source": [
    "import codecs\n",
    "\n",
    "datafile = codecs.open(r\"labeledmorph_en.csv\", \"r\",\"utf-8\")\n",
    "\n",
    "morphdata = []\n",
    "for line in datafile:\n",
    "    if not line.startswith('-1'):\n",
    "        morphdata.append(line)\n",
    "    "
   ]
  },
  {
   "cell_type": "code",
   "execution_count": 24,
   "metadata": {},
   "outputs": [],
   "source": [
    "testdata = load(morphdata)"
   ]
  },
  {
   "cell_type": "markdown",
   "metadata": {},
   "source": [
    "### Evaluate the POS Tagging"
   ]
  },
  {
   "cell_type": "code",
   "execution_count": 39,
   "metadata": {},
   "outputs": [],
   "source": [
    "def tag_evaluate(sents):\n",
    "    correct = 0\n",
    "    nr = 0\n",
    "\n",
    "    for snr,sent in sents:\n",
    "        ws = [w for (w,l,c) in sent]\n",
    "        cs = [c for (w,l,c) in sent]\n",
    "        pred_cs = tagger.tag_sent(ws,taglevel = 0)\n",
    "        for i in range(len(ws)): \n",
    "            nr += 1\n",
    "            if cs[i] == pred_cs[i]:\n",
    "                correct += 1\n",
    "            #else:\n",
    "            #    c = cs[i].split('(')[0]\n",
    "            #    pred_c = pred_cs[i].split('(')[0]\n",
    "            #    if c != pred_c:\n",
    "            #        print(snr,'\\t',' '.join(ws))\n",
    "            #        print(ws[i],cs[i],pred_cs[i])\n",
    "            #        print()\n",
    "        if nr%50 == 0:\n",
    "            print(correct/nr,end='\\r')\n",
    "    return correct/nr"
   ]
  },
  {
   "cell_type": "code",
   "execution_count": 40,
   "metadata": {},
   "outputs": [
    {
     "name": "stdout",
     "output_type": "stream",
     "text": [
      "0.9795530487544332\r"
     ]
    },
    {
     "data": {
      "text/plain": [
       "0.9795492729768678"
      ]
     },
     "execution_count": 40,
     "metadata": {},
     "output_type": "execute_result"
    }
   ],
   "source": [
    "tag_evaluate(testdata)"
   ]
  },
  {
   "cell_type": "markdown",
   "metadata": {},
   "source": [
    "### Evaluate lemmatisation"
   ]
  },
  {
   "cell_type": "code",
   "execution_count": 41,
   "metadata": {},
   "outputs": [],
   "source": [
    "def lemma_evaluate(sents):\n",
    "    correct = 0\n",
    "    nr = 0\n",
    "\n",
    "    for snr,sent in sents:\n",
    "        ws = [w for (w,l,c) in sent]\n",
    "        ls = [l for (w,l,c) in sent]\n",
    "        pred_ls = [l for _,l,_ in tagger.tag_sent(ws,taglevel = 1)]\n",
    "        for i in range(len(ws)): \n",
    "            nr += 1\n",
    "            if ls[i].lower() == pred_ls[i].lower():\n",
    "                correct += 1\n",
    "            #else:\n",
    "            #    print(snr,'\\t',' '.join(ws))\n",
    "            #    print(ws[i],ls[i],pred_ls[i])\n",
    "            #    print()\n",
    "        if nr%50 == 0:\n",
    "            print(correct/nr,end='\\r')\n",
    "    return correct/nr"
   ]
  },
  {
   "cell_type": "code",
   "execution_count": 42,
   "metadata": {},
   "outputs": [
    {
     "name": "stdout",
     "output_type": "stream",
     "text": [
      "0.9982600521300687\r"
     ]
    },
    {
     "data": {
      "text/plain": [
       "0.9982592764600222"
      ]
     },
     "execution_count": 42,
     "metadata": {},
     "output_type": "execute_result"
    }
   ],
   "source": [
    "lemma_evaluate(testdata)\n"
   ]
  },
  {
   "cell_type": "code",
   "execution_count": null,
   "metadata": {},
   "outputs": [],
   "source": []
  }
 ],
 "metadata": {
  "kernelspec": {
   "display_name": "Python 3 (ipykernel)",
   "language": "python",
   "name": "python3"
  },
  "language_info": {
   "codemirror_mode": {
    "name": "ipython",
    "version": 3
   },
   "file_extension": ".py",
   "mimetype": "text/x-python",
   "name": "python",
   "nbconvert_exporter": "python",
   "pygments_lexer": "ipython3",
   "version": "3.9.12"
  }
 },
 "nbformat": 4,
 "nbformat_minor": 2
}
