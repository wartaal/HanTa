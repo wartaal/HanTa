{
 "cells": [
  {
   "cell_type": "markdown",
   "metadata": {},
   "source": [
    "# Tests for HanTa German\n",
    "\n",
    "Some simple tests to check whether everything is doing what it is suposed to do."
   ]
  },
  {
   "cell_type": "code",
   "execution_count": 1,
   "metadata": {},
   "outputs": [],
   "source": [
    "import sys\n",
    "sys.path.insert(1, '..')\n",
    "import HanoverTagger as ht #Do not import form the package but from the parent folder where the latest source file is found\n",
    "\n",
    "tagger = ht.HanoverTagger(r'../morphmodel_ger.pgz')"
   ]
  },
  {
   "cell_type": "markdown",
   "metadata": {},
   "source": [
    "## A number of arbitrary examples"
   ]
  },
  {
   "cell_type": "code",
   "execution_count": 2,
   "metadata": {},
   "outputs": [
    {
     "name": "stdout",
     "output_type": "stream",
     "text": [
      "('Überlebende', 'NNA')\n",
      "('überlebend', 'ADJ(A)')\n",
      "('überlebend', [('überleb', 'VVnp'), ('end', 'PRESPART'), ('e', 'SUF_ADJ')], 'NNA')\n",
      "('überlebend', [('überleb', 'VVnp'), ('end', 'PRESPART'), ('e', 'SUF_ADJ')], 'ADJ(A)')\n"
     ]
    }
   ],
   "source": [
    "print(tagger.analyze('Überlebende'))\n",
    "print(tagger.analyze('überlebende'))\n",
    "print(tagger.analyze('Überlebende',taglevel=3))\n",
    "print(tagger.analyze('überlebende',taglevel=3))"
   ]
  },
  {
   "cell_type": "code",
   "execution_count": 3,
   "metadata": {},
   "outputs": [
    {
     "name": "stdout",
     "output_type": "stream",
     "text": [
      "('wohnzimmerschrank', [('wohnzimmer', 'NN'), ('schränk', 'NN_VAR'), ('e', 'SUF_NN')], 'NN')\n",
      "('holzfußbode', [('holzfußbode', 'NN'), ('n', 'SUF_NN')], 'NN')\n",
      "('schneeballsystem', [('schnee', 'NN'), ('ball', 'NN'), ('system', 'NN')], 'NN')\n",
      "('exportstandort', [('export', 'NN'), ('stand', 'NN'), ('ort', 'NN'), ('s', 'SUF_NN')], 'NN')\n"
     ]
    }
   ],
   "source": [
    "print(tagger.analyze('Wohnzimmerschränke',taglevel=3))\n",
    "print(tagger.analyze('Holzfußboden',taglevel=3))\n",
    "print(tagger.analyze('Schneeballsystem',taglevel=3))\n",
    "print(tagger.analyze('Exportstandorts',taglevel=3))"
   ]
  },
  {
   "cell_type": "code",
   "execution_count": 4,
   "metadata": {},
   "outputs": [
    {
     "name": "stdout",
     "output_type": "stream",
     "text": [
      "[('NN', -17.968088002381307)]\n",
      "[('VV(INF)', -13.004997963605383), ('VV(PP)', -13.69776085689267), ('NN', -14.56877801341071)]\n",
      "[('NN', -8.871950978144888), ('VV(INF)', -19.731531081236866), ('VV(PP)', -20.754912675522245)]\n"
     ]
    }
   ],
   "source": [
    "print(tagger.tag_word('verdachten'))\n",
    "print(tagger.tag_word('verfahren'))\n",
    "print(tagger.tag_word('Verfahren'))"
   ]
  },
  {
   "cell_type": "code",
   "execution_count": 5,
   "metadata": {},
   "outputs": [
    {
     "name": "stdout",
     "output_type": "stream",
     "text": [
      "[('NN', -17.968088002381307), ('VV(FIN)', -25.27261332515106), ('VV(INF)', -26.750057963605382), ('ADJ(A)', -27.507934110461136)]\n"
     ]
    }
   ],
   "source": [
    "print(tagger.tag_word('verdachten',cutoff=10))"
   ]
  },
  {
   "cell_type": "markdown",
   "metadata": {},
   "source": [
    "## Evaluate tagging and lemmatising on train data\n",
    "\n",
    "This is ofcourse not a proper evaluation as we use the training data to evaluate the program. However, if we don't get good results here, something went wrong for sure. The numbers we get here might give a kind of upperbound for what we can ecpect from a real evaluation.\n",
    "\n",
    "Evaluation of tagging and lemmatisation is not a trivial task. First, the evaluation data might have been tagged according to some othe tagging scheme. A lot of different decisions can be made about the tags and lemmata for many unclear cases. Moreover most data sets contain a large number of errors. Often these originate form the tagger/stemmer/lemmatiser that was used for the initial annotation and were overlooked in the manual correction phases.  "
   ]
  },
  {
   "cell_type": "code",
   "execution_count": 6,
   "metadata": {},
   "outputs": [],
   "source": [
    "def load(lines):\n",
    "    data = []\n",
    "    sent = []\n",
    "    lastsentnr = 1\n",
    "    for line in lines:\n",
    "        (sentnr,word,lemma,stem,tag,morphemes,stemsub) = line.split('\\t')\n",
    "        if sentnr != lastsentnr:\n",
    "            if len(sent) > 0:\n",
    "                data.append((sentnr,sent))\n",
    "            sent = []\n",
    "            lastsentnr = sentnr\n",
    "        sent.append((word,lemma,tag))\n",
    "    return data"
   ]
  },
  {
   "cell_type": "code",
   "execution_count": 7,
   "metadata": {},
   "outputs": [],
   "source": [
    "import codecs\n",
    "\n",
    "datafile = codecs.open(r\"labeledmorph_ger.csv\", \"r\",\"utf-8\")\n",
    "\n",
    "morphdata = []\n",
    "for line in datafile:\n",
    "    if not line.startswith('-1'):\n",
    "        morphdata.append(line)\n",
    "    "
   ]
  },
  {
   "cell_type": "code",
   "execution_count": 8,
   "metadata": {},
   "outputs": [],
   "source": [
    "testdata = load(morphdata)"
   ]
  },
  {
   "cell_type": "markdown",
   "metadata": {},
   "source": [
    "### Evaluate the POS Tagging"
   ]
  },
  {
   "cell_type": "code",
   "execution_count": 9,
   "metadata": {},
   "outputs": [],
   "source": [
    "def tag_evaluate(sents):\n",
    "    correct = 0\n",
    "    nr = 0\n",
    "\n",
    "    for snr,sent in sents:\n",
    "        ws = [w for (w,l,c) in sent]\n",
    "        cs = [c for (w,l,c) in sent]\n",
    "        pred_cs = tagger.tag_sent(ws,taglevel = 0)\n",
    "        for i in range(len(ws)): \n",
    "            nr += 1\n",
    "            if cs[i] == pred_cs[i]:\n",
    "                correct += 1\n",
    "            #else:\n",
    "            #    c = cs[i].split('(')[0]\n",
    "            #    pred_c = pred_cs[i].split('(')[0]\n",
    "            #    if c != pred_c:\n",
    "            #        print(snr,'\\t',' '.join(ws))\n",
    "            #        print(ws[i],cs[i],pred_cs[i])\n",
    "            #        print()\n",
    "        if nr%50 == 0:\n",
    "            print(correct/nr,end='\\r')\n",
    "    return correct/nr"
   ]
  },
  {
   "cell_type": "code",
   "execution_count": 10,
   "metadata": {},
   "outputs": [
    {
     "name": "stdout",
     "output_type": "stream",
     "text": [
      "0.9831377191498957\r"
     ]
    },
    {
     "data": {
      "text/plain": [
       "0.9831241823295361"
      ]
     },
     "execution_count": 10,
     "metadata": {},
     "output_type": "execute_result"
    }
   ],
   "source": [
    "tag_evaluate(testdata)"
   ]
  },
  {
   "cell_type": "markdown",
   "metadata": {},
   "source": [
    "### Evaluate lemmatisation"
   ]
  },
  {
   "cell_type": "code",
   "execution_count": 17,
   "metadata": {},
   "outputs": [],
   "source": [
    "def lemma_evaluate(sents):\n",
    "    correct = 0\n",
    "    nr = 0\n",
    "\n",
    "    for snr,sent in sents:\n",
    "        ws = [w for (w,l,c) in sent]\n",
    "        ls = [l for (w,l,c) in sent]\n",
    "        pred_ls = [l for _,l,_ in tagger.tag_sent(ws,taglevel = 1)]\n",
    "        for i in range(len(ws)): \n",
    "            nr += 1\n",
    "            if ls[i] == pred_ls[i]:\n",
    "                correct += 1\n",
    "            #elif ls[i].lower() != pred_ls[i].lower():\n",
    "            #    print(snr,'\\t',' '.join(ws))\n",
    "            #    print(ws[i],ls[i],pred_ls[i])\n",
    "            #    print()\n",
    "        if nr%50 == 0:\n",
    "            print(correct/nr,end='\\r')\n",
    "    return correct/nr"
   ]
  },
  {
   "cell_type": "code",
   "execution_count": 18,
   "metadata": {},
   "outputs": [
    {
     "name": "stdout",
     "output_type": "stream",
     "text": [
      "0.9715993009752523\r"
     ]
    },
    {
     "data": {
      "text/plain": [
       "0.9716030506848728"
      ]
     },
     "execution_count": 18,
     "metadata": {},
     "output_type": "execute_result"
    }
   ],
   "source": [
    "lemma_evaluate(testdata)\n"
   ]
  }
 ],
 "metadata": {
  "kernelspec": {
   "display_name": "Python 3 (ipykernel)",
   "language": "python",
   "name": "python3"
  },
  "language_info": {
   "codemirror_mode": {
    "name": "ipython",
    "version": 3
   },
   "file_extension": ".py",
   "mimetype": "text/x-python",
   "name": "python",
   "nbconvert_exporter": "python",
   "pygments_lexer": "ipython3",
   "version": "3.9.12"
  }
 },
 "nbformat": 4,
 "nbformat_minor": 2
}
