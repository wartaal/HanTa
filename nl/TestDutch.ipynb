{
 "cells": [
  {
   "cell_type": "markdown",
   "metadata": {},
   "source": [
    "# Tests for HanTa Dutch\n",
    "\n",
    "Some simple tests to check whether everything is doing what it is suposed to do."
   ]
  },
  {
   "cell_type": "code",
   "execution_count": 1,
   "metadata": {},
   "outputs": [],
   "source": [
    "import sys\n",
    "sys.path.insert(1, '..')\n",
    "import HanoverTagger as ht #Do not import form the package but from the parent folder where the latest source file is found\n",
    "\n",
    "tagger = ht.HanoverTagger(r'../morphmodel_dutch.pgz')"
   ]
  },
  {
   "cell_type": "markdown",
   "metadata": {},
   "source": [
    "## A number of arbitrary examples"
   ]
  },
  {
   "cell_type": "code",
   "execution_count": 2,
   "metadata": {},
   "outputs": [
    {
     "data": {
      "text/plain": [
       "('zijn', 'WW(pv,verl,mv)')"
      ]
     },
     "execution_count": 2,
     "metadata": {},
     "output_type": "execute_result"
    }
   ],
   "source": [
    "tagger.analyze('waren',taglevel=1)"
   ]
  },
  {
   "cell_type": "code",
   "execution_count": 3,
   "metadata": {},
   "outputs": [
    {
     "data": {
      "text/plain": [
       "('onder+ge+lop+en+e', 'WW(vd,nom,met-e,mv-n)')"
      ]
     },
     "execution_count": 3,
     "metadata": {},
     "output_type": "execute_result"
    }
   ],
   "source": [
    "tagger.analyze('ondergelopene',taglevel=2)"
   ]
  },
  {
   "cell_type": "code",
   "execution_count": 4,
   "metadata": {},
   "outputs": [
    {
     "data": {
      "text/plain": [
       "[('N(soort,mv,basis)', -30.190317050804087)]"
      ]
     },
     "execution_count": 4,
     "metadata": {},
     "output_type": "execute_result"
    }
   ],
   "source": [
    "tagger.tag_word('voorspellingsmogelijkheden')"
   ]
  },
  {
   "cell_type": "code",
   "execution_count": 5,
   "metadata": {},
   "outputs": [
    {
     "data": {
      "text/plain": [
       "('voorspellingsmogelijkheid',\n",
       " [('voor', 'PTK'),\n",
       "  ('spell', 'WW'),\n",
       "  ('ing', 'SUF_WW_SUBST'),\n",
       "  ('s', 'LI'),\n",
       "  ('mogelijk', 'ADJ'),\n",
       "  ('hed', 'SUF_A_SUBST'),\n",
       "  ('en', 'SUF_N_N')],\n",
       " 'N(soort,mv,basis)')"
      ]
     },
     "execution_count": 5,
     "metadata": {},
     "output_type": "execute_result"
    }
   ],
   "source": [
    "tagger.analyze('voorspellingsmogelijkheden',taglevel=3 )"
   ]
  },
  {
   "cell_type": "code",
   "execution_count": 6,
   "metadata": {},
   "outputs": [
    {
     "data": {
      "text/plain": [
       "('voor+spell+ing+s+mogelijk+heid+en', 'N(soort,mv,basis)')"
      ]
     },
     "execution_count": 6,
     "metadata": {},
     "output_type": "execute_result"
    }
   ],
   "source": [
    "tagger.analyze('voorspellingsmogelijkheden',taglevel=2 )"
   ]
  },
  {
   "cell_type": "code",
   "execution_count": 7,
   "metadata": {},
   "outputs": [
    {
     "data": {
      "text/plain": [
       "('syrisch-orthodox',\n",
       " [('syrisch', 'ADJ'),\n",
       "  ('-', 'LI(symb)'),\n",
       "  ('orthodox', 'ADJ'),\n",
       "  ('e', 'SUF_ADJ_E')],\n",
       " 'ADJ(prenom,basis,met-e,stan)')"
      ]
     },
     "execution_count": 7,
     "metadata": {},
     "output_type": "execute_result"
    }
   ],
   "source": [
    "tagger.analyze('syrisch-orthodoxe',taglevel=3)"
   ]
  },
  {
   "cell_type": "code",
   "execution_count": 8,
   "metadata": {},
   "outputs": [
    {
     "name": "stdout",
     "output_type": "stream",
     "text": [
      "N(soort,mv,basis)\n",
      "('man', 'N(soort,mv,basis)')\n",
      "('man+en', 'N(soort,mv,basis)')\n",
      "('man', [('mann', 'N_VAR(soort,zijd)'), ('en', 'SUF_N_N')], 'N(soort,mv,basis)')\n"
     ]
    }
   ],
   "source": [
    "print(tagger.analyze('mannen',taglevel=0))\n",
    "print(tagger.analyze('mannen',taglevel=1))\n",
    "print(tagger.analyze('mannen',taglevel=2))\n",
    "print(tagger.analyze('mannen',taglevel=3))"
   ]
  },
  {
   "cell_type": "code",
   "execution_count": 9,
   "metadata": {},
   "outputs": [
    {
     "name": "stdout",
     "output_type": "stream",
     "text": [
      "WW(pv,verl,mv)\n",
      "('verlopen', 'WW(pv,verl,mv)')\n",
      "('ver+lop+en', 'WW(pv,verl,mv)')\n",
      "('verlop', [('ver', 'PTK'), ('liep', 'WW_VAR(verl)'), ('en', 'SUF_WW(mv)')], 'WW(pv,verl,mv)')\n"
     ]
    }
   ],
   "source": [
    "print(tagger.analyze('verliepen',taglevel=0))\n",
    "print(tagger.analyze('verliepen',taglevel=1))\n",
    "print(tagger.analyze('verliepen',taglevel=2))\n",
    "print(tagger.analyze('verliepen',taglevel=3))"
   ]
  },
  {
   "cell_type": "code",
   "execution_count": 10,
   "metadata": {},
   "outputs": [
    {
     "name": "stdout",
     "output_type": "stream",
     "text": [
      "WW(pv,verl,ev)\n",
      "('duiken', 'WW(pv,verl,ev)')\n",
      "('duik', 'WW(pv,verl,ev)')\n",
      "('duik', [('dook', 'WW_VAR(verl)')], 'WW(pv,verl,ev)')\n"
     ]
    }
   ],
   "source": [
    "print(tagger.analyze('dook',taglevel=0))\n",
    "print(tagger.analyze('dook',taglevel=1))\n",
    "print(tagger.analyze('dook',taglevel=2))\n",
    "print(tagger.analyze('dook',taglevel=3))"
   ]
  },
  {
   "cell_type": "code",
   "execution_count": 11,
   "metadata": {},
   "outputs": [
    {
     "name": "stdout",
     "output_type": "stream",
     "text": [
      "WW(vd,vrij,zonder)\n",
      "('opbouwen', 'WW(vd,vrij,zonder)')\n",
      "('op+ge+bouw+d', 'WW(vd,vrij,zonder)')\n",
      "('opbouw', [('op', 'PTK'), ('ge', 'PREF_VD'), ('bouw', 'WW'), ('d', 'SUF_VD')], 'WW(vd,vrij,zonder)')\n"
     ]
    }
   ],
   "source": [
    "print(tagger.analyze('opgebouwd',taglevel=0))\n",
    "print(tagger.analyze('opgebouwd',taglevel=1))\n",
    "print(tagger.analyze('opgebouwd',taglevel=2))\n",
    "print(tagger.analyze('opgebouwd',taglevel=3))"
   ]
  },
  {
   "cell_type": "code",
   "execution_count": 12,
   "metadata": {},
   "outputs": [
    {
     "data": {
      "text/plain": [
       "[('De', 'de', 'LID(bep,stan,rest)'),\n",
       " ('kinderen', 'kind', 'N(soort,mv,basis)'),\n",
       " ('waren', 'zijn', 'WW(pv,verl,mv)'),\n",
       " ('met', 'met', 'VZ(init)'),\n",
       " ('een', 'een', 'LID(onbep,stan,agr)'),\n",
       " ('voetbal', 'voetbal', 'N(soort,ev,basis,onz,stan)'),\n",
       " ('aan', 'aan', 'VZ(init)'),\n",
       " ('het', 'het', 'LID(bep,stan,evon)'),\n",
       " ('voetballen', 'voetballen', 'WW(inf,nom,zonder,zonder-n)'),\n",
       " ('.', '.', 'LET()')]"
      ]
     },
     "execution_count": 12,
     "metadata": {},
     "output_type": "execute_result"
    }
   ],
   "source": [
    "import nltk\n",
    "\n",
    "zin1 = 'De kinderen waren met een voetbal aan het voetballen.'\n",
    "zin2 = 'De BMM beschikt over een beeldverwerkingstation.'\n",
    "\n",
    "woorden = nltk.word_tokenize(zin1)\n",
    "tagger.tag_sent(woorden,taglevel=1)"
   ]
  },
  {
   "cell_type": "code",
   "execution_count": 13,
   "metadata": {},
   "outputs": [
    {
     "data": {
      "text/plain": [
       "[('De', 'de', 'LID(bep,stan,rest)'),\n",
       " ('BMM', 'Bmm', 'N(eigen,ev,basis,zijd,stan)'),\n",
       " ('beschikt', 'beschikken', 'WW(pv,tgw,met-t)'),\n",
       " ('over', 'over', 'VZ(init)'),\n",
       " ('een', 'een', 'LID(onbep,stan,agr)'),\n",
       " ('beeldverwerkingstation',\n",
       "  'beeldverwerkingstation',\n",
       "  'N(soort,ev,basis,onz,stan)'),\n",
       " ('.', '.', 'LET()')]"
      ]
     },
     "execution_count": 13,
     "metadata": {},
     "output_type": "execute_result"
    }
   ],
   "source": [
    "woorden = nltk.word_tokenize(zin2)\n",
    "tagger.tag_sent(woorden,taglevel=1)"
   ]
  },
  {
   "cell_type": "code",
   "execution_count": 14,
   "metadata": {},
   "outputs": [
    {
     "data": {
      "text/plain": [
       "('ijsbaan',\n",
       " [('ijs', 'N(soort,onz)'), ('baan', 'N(soort,zijd)'), ('tje', 'SUF_DIM')],\n",
       " 'N(soort,ev,dim,onz,stan)')"
      ]
     },
     "execution_count": 14,
     "metadata": {},
     "output_type": "execute_result"
    }
   ],
   "source": [
    "tagger.analyze('ijsbaantje',taglevel=3,pos = 'N(soort,ev,dim,onz,stan)')"
   ]
  },
  {
   "cell_type": "code",
   "execution_count": 15,
   "metadata": {},
   "outputs": [
    {
     "data": {
      "text/plain": [
       "('voorbereiding',\n",
       " [('voor', 'PTK'),\n",
       "  ('be', 'PREF_WW'),\n",
       "  ('reid', 'WW_KERN'),\n",
       "  ('ing', 'SUF_WW_SUBST')],\n",
       " 'N(soort,ev,basis,zijd,stan)')"
      ]
     },
     "execution_count": 15,
     "metadata": {},
     "output_type": "execute_result"
    }
   ],
   "source": [
    "tagger.analyze('voorbereiding',taglevel=3)"
   ]
  },
  {
   "cell_type": "code",
   "execution_count": 16,
   "metadata": {},
   "outputs": [
    {
     "data": {
      "text/plain": [
       "('bodemvochtigheid',\n",
       " [('bodem', 'N(soort,zijd)'), ('vochtig', 'ADJ'), ('heid', 'SUF_SUBST')],\n",
       " 'N(soort,ev,basis,zijd,stan)')"
      ]
     },
     "execution_count": 16,
     "metadata": {},
     "output_type": "execute_result"
    }
   ],
   "source": [
    "tagger.analyze('bodemvochtigheid',taglevel=3)"
   ]
  },
  {
   "cell_type": "code",
   "execution_count": 17,
   "metadata": {},
   "outputs": [
    {
     "data": {
      "text/plain": [
       "[('N(soort,ev,basis,zijd,stan)', -25.125872389479067)]"
      ]
     },
     "execution_count": 17,
     "metadata": {},
     "output_type": "execute_result"
    }
   ],
   "source": [
    "tagger.tag_word('bodemvochtigheid')"
   ]
  },
  {
   "cell_type": "code",
   "execution_count": 18,
   "metadata": {},
   "outputs": [
    {
     "data": {
      "text/plain": [
       "[('N(soort,ev,basis,zijd,stan)', -13.715142898934982)]"
      ]
     },
     "execution_count": 18,
     "metadata": {},
     "output_type": "execute_result"
    }
   ],
   "source": [
    "tagger.tag_word('luchtvochtigheid')"
   ]
  },
  {
   "cell_type": "code",
   "execution_count": 19,
   "metadata": {},
   "outputs": [
    {
     "data": {
      "text/plain": [
       "[('ADJ(prenom,basis,met-e,stan)', -10.94748909209477),\n",
       " ('WW(pv,conj,ev)', -11.30711137698963),\n",
       " ('ADJ(nom,basis,met-e,zonder-n,stan)', -13.113990940896546)]"
      ]
     },
     "execution_count": 19,
     "metadata": {},
     "output_type": "execute_result"
    }
   ],
   "source": [
    "tagger.tag_word('ware')"
   ]
  },
  {
   "cell_type": "code",
   "execution_count": 20,
   "metadata": {},
   "outputs": [
    {
     "data": {
      "text/plain": [
       "('onschatbaar',\n",
       " [('on', 'PREF_NEG'),\n",
       "  ('schat', 'WW_VAR'),\n",
       "  ('bar', 'SUF_WW_ADJ'),\n",
       "  ('e', 'SUF_ADJ_E')],\n",
       " 'ADJ(prenom,basis,met-e,stan)')"
      ]
     },
     "execution_count": 20,
     "metadata": {},
     "output_type": "execute_result"
    }
   ],
   "source": [
    "tagger.analyze('onschatbare', taglevel = 3)"
   ]
  },
  {
   "cell_type": "code",
   "execution_count": 21,
   "metadata": {},
   "outputs": [
    {
     "data": {
      "text/plain": [
       "('inbidd',\n",
       " [('in', 'PTK'), ('ge', 'PREF_VD'), ('bed', 'WW_VAR(vd)')],\n",
       " 'WW(vd,vrij,zonder)')"
      ]
     },
     "execution_count": 21,
     "metadata": {},
     "output_type": "execute_result"
    }
   ],
   "source": [
    "tagger.analyze('ingebed', taglevel = 3)"
   ]
  },
  {
   "cell_type": "code",
   "execution_count": 22,
   "metadata": {},
   "outputs": [
    {
     "data": {
      "text/plain": [
       "('beinvloed',\n",
       " [('be', 'PREF_WW'), ('ïnvloed', 'WW_KERN'), ('t', 'SUF_WW(met-t)')],\n",
       " 'WW(pv,tgw,met-t)')"
      ]
     },
     "execution_count": 22,
     "metadata": {},
     "output_type": "execute_result"
    }
   ],
   "source": [
    "tagger.analyze(\"beïnvloedt\", taglevel = 3)"
   ]
  },
  {
   "cell_type": "code",
   "execution_count": 23,
   "metadata": {},
   "outputs": [
    {
     "data": {
      "text/plain": [
       "('zandwinningsschip',\n",
       " [('zand', 'N(soort,onz)'),\n",
       "  ('winn', 'WW'),\n",
       "  ('ing', 'SUF_WW_SUBST'),\n",
       "  ('s', 'LI'),\n",
       "  ('schep', 'N_VAR(soort,onz)'),\n",
       "  ('en', 'SUF_N_N')],\n",
       " 'N(soort,mv,basis)')"
      ]
     },
     "execution_count": 23,
     "metadata": {},
     "output_type": "execute_result"
    }
   ],
   "source": [
    "tagger.analyze(\"zandwinningsschepen\", taglevel = 3)"
   ]
  },
  {
   "cell_type": "markdown",
   "metadata": {},
   "source": [
    "## Evaluate tagging and lemmatising on train data\n",
    "\n",
    "This is ofcourse not a proper evaluation as we use the training data to evaluate the program. However, if we don't get good results here, something went wrong for sure. The numbers we get here might give a kind of upperbound for what we can ecpect from a real evaluation.\n",
    "\n",
    "Evaluation of tagging and lemmatisation is not a trivial task. First, the evaluation data might have been tagged according to some othe tagging scheme. A lot of different decisions can be made about the tags and lemmata for many unclear cases. Moreover most data sets contain a large number of errors. Often these originate form the tagger/stemmer/lemmatiser that was used for the initial annotation and were overlooked in the manual correction phases.  "
   ]
  },
  {
   "cell_type": "code",
   "execution_count": 24,
   "metadata": {},
   "outputs": [],
   "source": [
    "def load(lines):\n",
    "    data = []\n",
    "    sent = []\n",
    "    lastsentnr = 1\n",
    "    for line in lines:\n",
    "        (sentnr,word,lemma,stem,tag,morphemes,stemsub) = line.split('\\t')\n",
    "        if sentnr != lastsentnr:\n",
    "            if len(sent) > 0:\n",
    "                data.append((sentnr,sent))\n",
    "            sent = []\n",
    "            lastsentnr = sentnr\n",
    "        sent.append((word,lemma,tag))\n",
    "    return data"
   ]
  },
  {
   "cell_type": "code",
   "execution_count": 25,
   "metadata": {},
   "outputs": [],
   "source": [
    "import codecs\n",
    "\n",
    "datafile = codecs.open(r\"labeledmorph_dutch.csv\", \"r\",\"utf-8\")\n",
    "\n",
    "morphdata = []\n",
    "for line in datafile:\n",
    "    if not line.startswith('-1'):\n",
    "        morphdata.append(line)\n",
    "    "
   ]
  },
  {
   "cell_type": "code",
   "execution_count": 26,
   "metadata": {},
   "outputs": [],
   "source": [
    "testdata = load(morphdata)"
   ]
  },
  {
   "cell_type": "markdown",
   "metadata": {},
   "source": [
    "### Evaluate the POS Tagging"
   ]
  },
  {
   "cell_type": "code",
   "execution_count": 27,
   "metadata": {},
   "outputs": [],
   "source": [
    "def tag_evaluate(sents):\n",
    "    correct = 0\n",
    "    nr = 0\n",
    "\n",
    "    for snr,sent in sents:\n",
    "        ws = [w for (w,l,c) in sent]\n",
    "        cs = [c for (w,l,c) in sent]\n",
    "        pred_cs = tagger.tag_sent(ws,taglevel = 0)\n",
    "        for i in range(len(ws)): \n",
    "            nr += 1\n",
    "            if cs[i] == pred_cs[i]:\n",
    "                correct += 1\n",
    "            #else:\n",
    "            #    c = cs[i].split('(')[0]\n",
    "            #    pred_c = pred_cs[i].split('(')[0]\n",
    "            #    if c != pred_c:\n",
    "            #        print(snr,'\\t',' '.join(ws))\n",
    "            #        print(ws[i],cs[i],pred_cs[i])\n",
    "            #        print()\n",
    "        if nr%50 == 0:\n",
    "            print(correct/nr,end='\\r')\n",
    "    return correct/nr"
   ]
  },
  {
   "cell_type": "code",
   "execution_count": 28,
   "metadata": {},
   "outputs": [
    {
     "name": "stdout",
     "output_type": "stream",
     "text": [
      "0.9826681614349776\r"
     ]
    },
    {
     "data": {
      "text/plain": [
       "0.9826657254929992"
      ]
     },
     "execution_count": 28,
     "metadata": {},
     "output_type": "execute_result"
    }
   ],
   "source": [
    "tag_evaluate(testdata)"
   ]
  },
  {
   "cell_type": "markdown",
   "metadata": {},
   "source": [
    "### Evaluate lemmatisation"
   ]
  },
  {
   "cell_type": "code",
   "execution_count": 30,
   "metadata": {},
   "outputs": [],
   "source": [
    "def lemma_evaluate(sents):\n",
    "    correct = 0\n",
    "    nr = 0\n",
    "\n",
    "    for snr,sent in sents:\n",
    "        ws = [w for (w,l,c) in sent]\n",
    "        ls = [l for (w,l,c) in sent]\n",
    "        pred_ls = [l for _,l,_ in tagger.tag_sent(ws,taglevel = 1)]\n",
    "        for i in range(len(ws)): \n",
    "            nr += 1\n",
    "            if ls[i] == pred_ls[i]:\n",
    "                correct += 1\n",
    "            #else:\n",
    "            #    print(snr,'\\t',' '.join(ws))\n",
    "            #    print(ws[i],ls[i],pred_ls[i])\n",
    "            #    print()\n",
    "        if nr%50 == 0:\n",
    "            print(correct/nr,end='\\r')\n",
    "    return correct/nr"
   ]
  },
  {
   "cell_type": "code",
   "execution_count": 31,
   "metadata": {},
   "outputs": [
    {
     "name": "stdout",
     "output_type": "stream",
     "text": [
      "0.9689237668161435\r"
     ]
    },
    {
     "data": {
      "text/plain": [
       "0.9689323337830714"
      ]
     },
     "execution_count": 31,
     "metadata": {},
     "output_type": "execute_result"
    }
   ],
   "source": [
    "lemma_evaluate(testdata)\n"
   ]
  },
  {
   "cell_type": "code",
   "execution_count": null,
   "metadata": {},
   "outputs": [],
   "source": []
  }
 ],
 "metadata": {
  "kernelspec": {
   "display_name": "Python 3 (ipykernel)",
   "language": "python",
   "name": "python3"
  },
  "language_info": {
   "codemirror_mode": {
    "name": "ipython",
    "version": 3
   },
   "file_extension": ".py",
   "mimetype": "text/x-python",
   "name": "python",
   "nbconvert_exporter": "python",
   "pygments_lexer": "ipython3",
   "version": "3.9.12"
  }
 },
 "nbformat": 4,
 "nbformat_minor": 2
}
